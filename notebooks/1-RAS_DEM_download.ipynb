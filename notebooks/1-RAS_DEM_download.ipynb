{
 "cells": [
  {
   "cell_type": "markdown",
   "metadata": {},
   "source": [
    "## DEM Download"
   ]
  },
  {
   "cell_type": "markdown",
   "metadata": {},
   "source": [
    "**Script to get DEMs for an area of interest**\n",
    "\n",
    "*Prepared by Curtis Smith curtis.smith@stantec.com*\n",
    "\n",
    "*updated to handle user defined data 11/9/2021*"
   ]
  },
  {
   "cell_type": "code",
   "execution_count": 1,
   "metadata": {},
   "outputs": [],
   "source": [
    "import os"
   ]
  },
  {
   "cell_type": "code",
   "execution_count": 2,
   "metadata": {},
   "outputs": [],
   "source": [
    "run = 'local' #local or cloud\n",
    "os.environ[\"APP_ENV\"] = run"
   ]
  },
  {
   "cell_type": "code",
   "execution_count": 3,
   "metadata": {},
   "outputs": [
    {
     "name": "stderr",
     "output_type": "stream",
     "text": [
      "/opt/conda/lib/python3.9/site-packages/geopandas/_compat.py:106: UserWarning: The Shapely GEOS version (3.11.4-CAPI-1.17.4) is incompatible with the GEOS version PyGEOS was compiled with (3.10.4-CAPI-1.16.2). Conversions between both will be slow.\n",
      "  warnings.warn(\n",
      "/opt/conda/lib/python3.9/site-packages/scipy/__init__.py:146: UserWarning: A NumPy version >=1.16.5 and <1.23.0 is required for this version of SciPy (detected version 1.24.0\n",
      "  warnings.warn(f\"A NumPy version >={np_minversion} and <{np_maxversion}\"\n"
     ]
    }
   ],
   "source": [
    "import geopandas as gpd\n",
    "import sys, copy, shutil, subprocess\n",
    "import pathlib as pl\n",
    "import fiona\n",
    "import descartes\n",
    "import json\n",
    "import numpy as np\n",
    "import sys\n",
    "from IPython.display import clear_output\n",
    "import matplotlib.pyplot as plt\n",
    "%matplotlib inline\n",
    "# %load_ext autoreload\n",
    "# %autoreload 2\n",
    "sys.path.append('..')\n",
    "from src.grass_functions import*\n",
    "from src.process_inputs import*"
   ]
  },
  {
   "cell_type": "code",
   "execution_count": 4,
   "metadata": {},
   "outputs": [],
   "source": [
    "#address ssl issue\n",
    "home = pl.Path(os.getcwd())\n",
    "ssl_path = str(home.parent/'docker')\n",
    "os.environ['SSL_CERT_DIR'] = ssl_path\n",
    "pem = '/etc/ssl/certs/stantec-ca.crt'\n",
    "\n",
    "import urllib3 \n",
    "http = urllib3.PoolManager( cert_reqs='CERT_REQUIRED', ca_certs=pem)"
   ]
  },
  {
   "cell_type": "markdown",
   "metadata": {},
   "source": [
    "### Set parameters"
   ]
  },
  {
   "cell_type": "code",
   "execution_count": 5,
   "metadata": {
    "tags": [
     "parameters"
    ]
   },
   "outputs": [],
   "source": [
    "#set project variables\n",
    "Project_Area = 'kc_debug'\n",
    "GRASS_GIS_Projection = projection = '5070' #set to None if you want to use the DEM's original projection\n",
    "res = '10m'\n",
    "\n",
    "## Set variables analysis\n",
    "source = 'wbd' #or user-defined\n",
    "data_scale = 'HUC12' #other options HUC12, HUC10, HUC8 OR the field name of the source data to be split <-- case sensitive\n",
    "select_data = '102701040607' #     # Value within the filter_field used for data selection\n",
    "to_headwaters = False #False if only interested in local huc area\n",
    "input_shp_name = None #None or must be populated populated with a shapefile polygons if data_scale != HUCXX\n",
    "buffer = 2000\n",
    "auto_delete = False"
   ]
  },
  {
   "cell_type": "code",
   "execution_count": 6,
   "metadata": {},
   "outputs": [],
   "source": [
    "if data_scale.find('HUC') >= 0:\n",
    "    huc_level = re.findall(\"[0-9]+\",data_scale)[0]\n",
    "    if huc_level == str(len(select_data)):\n",
    "        huc_digys = huc_level\n",
    "    else:\n",
    "        huc_digys = huc_level\n",
    "        select_data = select_data[:int(huc_digys)]"
   ]
  },
  {
   "cell_type": "code",
   "execution_count": 7,
   "metadata": {},
   "outputs": [],
   "source": [
    "parent_dir = pl.Path(os.getcwd()).parent/'data'\n",
    "\n",
    "## Paths:\n",
    "vector_parent_dir = parent_dir/'Vectors'\n",
    "current_dir = pl.Path(os.getcwd())\n",
    "vector_dir = parent_dir/'Vectors'/Project_Area\n",
    "if not os.path.exists(vector_dir):\n",
    "    os.makedirs(vector_dir)\n",
    "raster_dir = parent_dir/'Rasters'/Project_Area\n",
    "if not os.path.exists(raster_dir):\n",
    "    os.makedirs(raster_dir)\n",
    "git_data_repo = current_dir/'data_repository'\n",
    "\n",
    "if input_shp_name:\n",
    "    input_shp = vector_dir/input_shp_name\n",
    "outputs_dir =parent_dir/'Rasters'/Project_Area/'dem'"
   ]
  },
  {
   "cell_type": "markdown",
   "metadata": {},
   "source": [
    "### Get area of interest"
   ]
  },
  {
   "cell_type": "code",
   "execution_count": 9,
   "metadata": {
    "tags": []
   },
   "outputs": [
    {
     "name": "stdout",
     "output_type": "stream",
     "text": [
      "gdb is already downloaded\n"
     ]
    },
    {
     "name": "stderr",
     "output_type": "stream",
     "text": [
      "/opt/conda/lib/python3.9/site-packages/geopandas/geodataframe.py:1322: SettingWithCopyWarning: \n",
      "A value is trying to be set on a copy of a slice from a DataFrame.\n",
      "Try using .loc[row_indexer,col_indexer] = value instead\n",
      "\n",
      "See the caveats in the documentation: https://pandas.pydata.org/pandas-docs/stable/user_guide/indexing.html#returning-a-view-versus-a-copy\n",
      "  super(GeoDataFrame, self).__setitem__(key, value)\n",
      "/opt/conda/lib/python3.9/site-packages/geopandas/io/file.py:299: FutureWarning: pandas.Int64Index is deprecated and will be removed from pandas in a future version. Use pandas.Index with the appropriate dtype instead.\n",
      "  pd.Int64Index,\n"
     ]
    }
   ],
   "source": [
    "#prep work\n",
    "assert source in ['wbd','user-defined']\n",
    "if source == 'wbd':\n",
    "    wbd = nhd_download(select_data,vector_dir,docker=pem)\n",
    "\n",
    "    #read in HUC12s vector file from NHD\n",
    "    local_huc4 = gpd.read_file(vector_dir/wbd, layer='WBDHU{}'.format(huc_digys))\n",
    "\n",
    "    #reformat fields to handle disparate USGS data formats\n",
    "    local_huc4 = lower_pd_cols(local_huc4.copy())\n",
    "    if to_headwaters:\n",
    "        ## function to get most downstream HUC12 if HUC10 or HUC8 is entered\n",
    "        select_data = get_downstream_huc12(select_data,local_huc4)\n",
    "\n",
    "        #get all upstream HUC12s\n",
    "        local_huc12 = local_huc4.loc[local_huc4['huc12'] == select_data]\n",
    "        upstream_list = get_upstream_extent_usgs(select_data) #selected huc12\n",
    "        aoi = local_huc4.loc[local_huc4['huc12'].isin(upstream_list) == True]\n",
    "    else:\n",
    "        aoi = local_huc4.loc[local_huc4['huc{}'.format(huc_digys)] == select_data]\n",
    "        local_huc12 = None\n",
    "else:\n",
    "    shp = gpd.read_file(input_shp)\n",
    "    shp = shp.rename({'HUC10_mod':'perim'},axis=1)\n",
    "    aoi = shp.loc[shp[data_scale] == select_data]\n",
    "    local_huc12 = None\n",
    "#save to vector for later analysis\n",
    "huc_path = vector_dir/'{0}_{1}_aoi.geojson'.format(Project_Area,select_data)\n",
    "#fix topological errors\n",
    "aoi['geometry'] = aoi.buffer(0) \n",
    "aoi.to_crs(epsg=projection).to_file(str(huc_path),driver=\"GeoJSON\")"
   ]
  },
  {
   "cell_type": "code",
   "execution_count": 10,
   "metadata": {},
   "outputs": [
    {
     "name": "stderr",
     "output_type": "stream",
     "text": [
      "[2025-08-13 18:47:13,443] [WARNING] [geodataframe] : Expecting property name enclosed in double quotes: line 1 column 2 (char 1)\n"
     ]
    }
   ],
   "source": [
    "aoi = gpd.read_file(str(huc_path),driver=\"GeoJSON\")"
   ]
  },
  {
   "cell_type": "code",
   "execution_count": 11,
   "metadata": {},
   "outputs": [
    {
     "data": {
      "image/png": "[encoded data removed]",
      "text/plain": [
       "<Figure size 2160x720 with 1 Axes>"
      ]
     },
     "metadata": {
      "needs_background": "light"
     },
     "output_type": "display_data"
    }
   ],
   "source": [
    "#plot\n",
    "fix1, ax1 = plt.subplots(figsize=(30,10))\n",
    "aoi.plot(ax = ax1, color = 'orange', edgecolor = 'white')\n",
    "plt.show()"
   ]
  },
  {
   "cell_type": "markdown",
   "metadata": {},
   "source": [
    "### Gather best DEM"
   ]
  },
  {
   "cell_type": "code",
   "execution_count": 12,
   "metadata": {
    "tags": []
   },
   "outputs": [
    {
     "name": "stdout",
     "output_type": "stream",
     "text": [
      "Best available DEM is 10m\n",
      "coverage is 100.0 percent\n"
     ]
    }
   ],
   "source": [
    "##intersect with web service to get dem links\n",
    "gdf_dem, aoi_coverage_buffer = tnm_coverage(aoi,desired_resolution=res, buffer = buffer, minimum_coverage = 0.8) "
   ]
  },
  {
   "cell_type": "code",
   "execution_count": 13,
   "metadata": {},
   "outputs": [],
   "source": [
    "#reduce to only where buffer intersects tiles\n",
    "gdf_dem_reduced = gpd.sjoin(gdf_dem,gpd.GeoDataFrame(geometry=gpd.GeoSeries(aoi_coverage_buffer)),how='inner', op='intersects')"
   ]
  },
  {
   "cell_type": "code",
   "execution_count": 14,
   "metadata": {},
   "outputs": [
    {
     "data": {
      "text/plain": [
       "['https://prd-tnm.s3.amazonaws.com/StagedProducts/Elevation/13/TIFF/historical/n39w095/USGS_13_n39w095_20240408.tif',\n",
       " 'https://prd-tnm.s3.amazonaws.com/StagedProducts/Elevation/13/TIFF/historical/n40w095/USGS_13_n40w095_20240228.tif']"
      ]
     },
     "execution_count": 14,
     "metadata": {},
     "output_type": "execute_result"
    }
   ],
   "source": [
    "gdf_dem_reduced['dl_link'].to_list()"
   ]
  },
  {
   "cell_type": "code",
   "execution_count": 15,
   "metadata": {},
   "outputs": [
    {
     "data": {
      "image/png": "[encoded data removed]",
      "text/plain": [
       "<Figure size 2160x720 with 1 Axes>"
      ]
     },
     "metadata": {
      "needs_background": "light"
     },
     "output_type": "display_data"
    }
   ],
   "source": [
    "#plot\n",
    "fix1, ax1 = plt.subplots(figsize=(30,10))\n",
    "aoi.to_crs(gdf_dem.crs).plot(ax = ax1, color = 'orange', edgecolor = 'white')\n",
    "gdf_dem_reduced.plot(ax = ax1,color = 'red',edgecolor = 'black', alpha=0.1)\n",
    "plt.show()"
   ]
  },
  {
   "cell_type": "markdown",
   "metadata": {},
   "source": [
    "### Export metadata"
   ]
  },
  {
   "cell_type": "code",
   "execution_count": 16,
   "metadata": {},
   "outputs": [
    {
     "name": "stderr",
     "output_type": "stream",
     "text": [
      "/opt/conda/lib/python3.9/site-packages/geopandas/io/file.py:299: FutureWarning: pandas.Int64Index is deprecated and will be removed from pandas in a future version. Use pandas.Index with the appropriate dtype instead.\n",
      "  pd.Int64Index,\n",
      "/tmp/ipykernel_148/174493256.py:1: UserWarning: Column names longer than 10 characters will be truncated when saved to ESRI Shapefile.\n",
      "  meta = gdf_dem_reduced[['title','publicationDate','vendorMetaUrl','geometry']].to_file(vector_dir/f'DEM_metadata_{select_data}.shp')\n",
      "[2025-08-13 18:47:35,635] [WARNING] [collection] : Normalized/laundered field name: 'publicationDate' to 'publicatio'\n",
      "[2025-08-13 18:47:35,636] [WARNING] [collection] : Normalized/laundered field name: 'vendorMetaUrl' to 'vendorMeta'\n"
     ]
    }
   ],
   "source": [
    "meta = gdf_dem_reduced[['title','publicationDate','vendorMetaUrl','geometry']].to_file(vector_dir/f'DEM_metadata_{select_data}.shp')"
   ]
  },
  {
   "cell_type": "markdown",
   "metadata": {},
   "source": [
    "### Download DEM Links "
   ]
  },
  {
   "cell_type": "code",
   "execution_count": 17,
   "metadata": {},
   "outputs": [],
   "source": [
    "#dem prefered format\n",
    "DEM_format = 'TIFF' #other options are TIFF, IMG, ArcGrid"
   ]
  },
  {
   "cell_type": "code",
   "execution_count": 18,
   "metadata": {},
   "outputs": [],
   "source": [
    "dem_links = []\n",
    "dem_folder = []\n",
    "raw_links = gdf_dem_reduced['urls'].to_list()\n",
    "pub_date = gdf_dem_reduced['publicationDate'].to_list()"
   ]
  },
  {
   "cell_type": "code",
   "execution_count": 19,
   "metadata": {},
   "outputs": [],
   "source": [
    "for entry, date in zip(raw_links,pub_date):\n",
    "    if DEM_format in entry.keys(): ##updated to handle IMG, TIFF and ZIP files\n",
    "        dem_links.append(entry[DEM_format])\n",
    "        dem_folder.append(date)\n",
    "    if 'varies' in entry.keys():\n",
    "        dem_links.append(entry['varies'])\n",
    "        dem_folder.append(date)"
   ]
  },
  {
   "cell_type": "code",
   "execution_count": 20,
   "metadata": {
    "tags": []
   },
   "outputs": [
    {
     "name": "stdout",
     "output_type": "stream",
     "text": [
      "Obtaining DEM 2 of 2\n",
      "opening: https://prd-tnm.s3.amazonaws.com/StagedProducts/Elevation/13/TIFF/historical/n40w095/USGS_13_n40w095_20240228.tif\n",
      "saving to: /home/data/Rasters/kc_debug/dem/2024-02-29/USGS_13_n40w095_20240228.tif\n"
     ]
    }
   ],
   "source": [
    "#curtis to update code to choose IMG if TIFF not available and then unzip the IMG files as part of the dem download function\n",
    "##download\n",
    "dems = dem_download(dem_links,outputs_dir,dem_folder,docker=pem)"
   ]
  },
  {
   "cell_type": "markdown",
   "metadata": {
    "tags": []
   },
   "source": [
    "### Confirm RASTER coverage"
   ]
  },
  {
   "cell_type": "code",
   "execution_count": 21,
   "metadata": {},
   "outputs": [],
   "source": [
    "raster_paths = []\n",
    "raster_paths_all = glob.glob(str(raster_dir)+f'/dem/**/*.{DEM_format[:3].lower()}',recursive=True)\n",
    "for rp in raster_paths_all:\n",
    "    if rp.split('/')[-1] in dems:\n",
    "        raster_paths.append(rp)"
   ]
  },
  {
   "cell_type": "code",
   "execution_count": 22,
   "metadata": {
    "tags": []
   },
   "outputs": [],
   "source": [
    "out_vrt = process_dems(raster_paths, select_data, projection, overwrite=True)"
   ]
  },
  {
   "cell_type": "code",
   "execution_count": 23,
   "metadata": {
    "tags": []
   },
   "outputs": [
    {
     "name": "stderr",
     "output_type": "stream",
     "text": [
      "/opt/conda/lib/python3.9/site-packages/geopandas/io/file.py:299: FutureWarning: pandas.Int64Index is deprecated and will be removed from pandas in a future version. Use pandas.Index with the appropriate dtype instead.\n",
      "  pd.Int64Index,\n",
      "[2025-08-13 18:59:47,478] [WARNING] [geodataframe] : Expecting property name enclosed in double quotes: line 1 column 2 (char 1)\n"
     ]
    },
    {
     "data": {
      "image/png": "[encoded data removed]",
      "text/plain": [
       "<Figure size 2160x720 with 1 Axes>"
      ]
     },
     "metadata": {
      "needs_background": "light"
     },
     "output_type": "display_data"
    },
    {
     "name": "stderr",
     "output_type": "stream",
     "text": [
      "[2025-08-13 18:59:47,821] [INFO] [process_inputs] : coverage is 100.0 percent\n"
     ]
    }
   ],
   "source": [
    "covered = check_dem_coverage(out_vrt, huc_path, minimum_coverage = 0.8)"
   ]
  },
  {
   "cell_type": "code",
   "execution_count": 24,
   "metadata": {},
   "outputs": [],
   "source": [
    "if not covered and auto_delete:\n",
    "    shutil.rmtree(out_vrt.parent)\n",
    "    print('DEM does not fully cover area of interest, specify next best DEM and rerun')"
   ]
  },
  {
   "cell_type": "markdown",
   "metadata": {},
   "source": [
    "## End"
   ]
  }
 ],
 "metadata": {
  "kernelspec": {
   "display_name": "Python 3 (ipykernel)",
   "language": "python",
   "name": "python3"
  },
  "language_info": {
   "codemirror_mode": {
    "name": "ipython",
    "version": 3
   },
   "file_extension": ".py",
   "mimetype": "text/x-python",
   "name": "python",
   "nbconvert_exporter": "python",
   "pygments_lexer": "ipython3",
   "version": "3.9.7"
  }
 },
 "nbformat": 4,
 "nbformat_minor": 4
}
